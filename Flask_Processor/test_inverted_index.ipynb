{
 "cells": [
  {
   "cell_type": "code",
   "execution_count": 1,
   "metadata": {},
   "outputs": [
    {
     "name": "stdout",
     "output_type": "stream",
     "text": [
      "Term: flawed\n",
      "Postings:\n",
      "(1, 'hyperbole half unfortunate situations flawed coping mechanisms mayhem things happened', ('£14.75', 'In stock (14 available)'), ('£14.75', 'In stock (14 available)'), 0.29995654882259826)\n",
      "\n",
      "Term: things\n",
      "Postings:\n",
      "(1, 'hyperbole half unfortunate situations flawed coping mechanisms mayhem things happened', ('£14.75', 'In stock (14 available)'), ('£14.75', 'In stock (14 available)'), 0.29995654882259826)\n",
      "(405, 'tell three things', ('£41.81', 'In stock (5 available)'), ('£41.81', 'In stock (5 available)'), 0.8995118308540003)\n",
      "(470, 'un qualified god uses broken people big things', ('£54.00', 'In stock (16 available)'), ('£54.00', 'In stock (16 available)'), 0.31530552918828997)\n",
      "(619, 'furiously happy funny book horrible things', ('£41.46', 'In stock (12 available)'), ('£41.46', 'In stock (12 available)'), 0.3995842494830033)\n",
      "(623, 'steal like artist 10 things nobody told creative', ('£20.90', 'In stock (7 available)'), ('£20.90', 'In stock (7 available)'), 0.28757443548624545)\n",
      "(628, 'tipping point little things make big difference', ('£10.02', 'In stock (3 available)'), ('£10.02', 'In stock (3 available)'), 0.31734489112033404)\n",
      "(994, 'needful things', ('£47.51', 'In stock (4 available)'), ('£47.51', 'In stock (4 available)'), 1.0772337241058627)\n",
      "\n",
      "Term: hyperbole\n",
      "Postings:\n",
      "(1, 'hyperbole half unfortunate situations flawed coping mechanisms mayhem things happened', ('£14.75', 'In stock (14 available)'), ('£14.75', 'In stock (14 available)'), 0.29995654882259826)\n",
      "\n",
      "Term: mechanisms\n",
      "Postings:\n",
      "(1, 'hyperbole half unfortunate situations flawed coping mechanisms mayhem things happened', ('£14.75', 'In stock (14 available)'), ('£14.75', 'In stock (14 available)'), 0.29995654882259826)\n",
      "\n",
      "Term: happened\n",
      "Postings:\n",
      "(1, 'hyperbole half unfortunate situations flawed coping mechanisms mayhem things happened', ('£14.75', 'In stock (14 available)'), ('£14.75', 'In stock (14 available)'), 0.29995654882259826)\n",
      "(175, '13 hours inside account really happened benghazi', ('£27.06', 'In stock (13 available)'), ('£27.06', 'In stock (13 available)'), 0.3855050703660001)\n",
      "(326, 'let pretend never happened mostly true memoir', ('£45.11', 'In stock (3 available)'), ('£45.11', 'In stock (3 available)'), 0.3603491762151885)\n",
      "(359, 'happened beale street secrets south mysteries 2', ('£25.37', 'In stock (7 available)'), ('£25.37', 'In stock (7 available)'), 0.3425007852711457)\n",
      "\n",
      "Term: half\n",
      "Postings:\n",
      "(1, 'hyperbole half unfortunate situations flawed coping mechanisms mayhem things happened', ('£14.75', 'In stock (14 available)'), ('£14.75', 'In stock (14 available)'), 0.29995654882259826)\n",
      "\n",
      "Term: coping\n",
      "Postings:\n",
      "(1, 'hyperbole half unfortunate situations flawed coping mechanisms mayhem things happened', ('£14.75', 'In stock (14 available)'), ('£14.75', 'In stock (14 available)'), 0.29995654882259826)\n",
      "\n",
      "Term: situations\n",
      "Postings:\n",
      "(1, 'hyperbole half unfortunate situations flawed coping mechanisms mayhem things happened', ('£14.75', 'In stock (14 available)'), ('£14.75', 'In stock (14 available)'), 0.29995654882259826)\n",
      "\n",
      "Term: mayhem\n",
      "Postings:\n",
      "(1, 'hyperbole half unfortunate situations flawed coping mechanisms mayhem things happened', ('£14.75', 'In stock (14 available)'), ('£14.75', 'In stock (14 available)'), 0.29995654882259826)\n",
      "\n",
      "Term: unfortunate\n",
      "Postings:\n",
      "(1, 'hyperbole half unfortunate situations flawed coping mechanisms mayhem things happened', ('£14.75', 'In stock (14 available)'), ('£14.75', 'In stock (14 available)'), 0.29995654882259826)\n",
      "\n"
     ]
    }
   ],
   "source": [
    "import pickle\n",
    "\n",
    "# Function to load the inverted index from pickle file\n",
    "def load_index_from_pickle(filename):\n",
    "    with open(filename, 'rb') as f:\n",
    "        inverted_index = pickle.load(f)\n",
    "    return inverted_index\n",
    "\n",
    "# Load the inverted index from pickle file\n",
    "inverted_index = load_index_from_pickle(\"../Indexer/inverted_index.pickle\")\n",
    "\n",
    "count = 0\n",
    "for term, postings in inverted_index.items():\n",
    "    print(f\"Term: {term}\")\n",
    "    print(\"Postings:\")\n",
    "    for posting in postings:\n",
    "        print(posting)\n",
    "    print()\n",
    "    count += 1\n",
    "    if count == 10:\n",
    "        break"
   ]
  }
 ],
 "metadata": {
  "kernelspec": {
   "display_name": "InformationRetrieval",
   "language": "python",
   "name": "python3"
  },
  "language_info": {
   "codemirror_mode": {
    "name": "ipython",
    "version": 3
   },
   "file_extension": ".py",
   "mimetype": "text/x-python",
   "name": "python",
   "nbconvert_exporter": "python",
   "pygments_lexer": "ipython3",
   "version": "3.11.7"
  }
 },
 "nbformat": 4,
 "nbformat_minor": 2
}
